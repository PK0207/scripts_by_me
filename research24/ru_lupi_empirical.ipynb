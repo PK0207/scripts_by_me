{
 "cells": [
  {
   "cell_type": "code",
   "execution_count": 95,
   "id": "3a65acae",
   "metadata": {},
   "outputs": [],
   "source": [
    "import os\n",
    "import numpy as np\n",
    "import matplotlib.pyplot as plt\n",
    "import astropy.units as u\n",
    "import pandas as pd\n",
    "\n",
    "from astropy.io import fits\n",
    "from astropy.table import Table\n",
    "from specutils import Spectrum1D\n",
    "from specutils.fitting import find_lines_threshold, find_lines_derivative\n",
    "from scipy.optimize import curve_fit\n",
    "from astropy.stats import sigma_clip\n",
    "from glob import glob\n",
    "from scipy.signal import find_peaks"
   ]
  },
  {
   "cell_type": "markdown",
   "id": "fbd498af",
   "metadata": {},
   "source": [
    "# Load in data (downloaded in scratch.ipynb using MAST archive API)"
   ]
  },
  {
   "cell_type": "code",
   "execution_count": 3,
   "id": "cedd75d6",
   "metadata": {},
   "outputs": [],
   "source": [
    "spectrum_files = glob(os.path.join('HST','anonymous37141', '*x1dsum.fits'))"
   ]
  },
  {
   "cell_type": "code",
   "execution_count": 67,
   "id": "54f24f2c",
   "metadata": {},
   "outputs": [],
   "source": [
    "# Load in RU Lupi data\n",
    "# spectrum_files = glob(os.path.join('HST','mastDownload','HST','*','*x1dsum.fits'))"
   ]
  },
  {
   "cell_type": "code",
   "execution_count": 6,
   "id": "79603155",
   "metadata": {},
   "outputs": [
    {
     "name": "stderr",
     "output_type": "stream",
     "text": [
      "WARNING: UnitsWarning: 'erg /s /cm**2 /angstrom' contains multiple slashes, which is discouraged by the FITS standard [astropy.units.format.generic]\n",
      "WARNING: UnitsWarning: 'count /s /pixel' contains multiple slashes, which is discouraged by the FITS standard [astropy.units.format.generic]\n"
     ]
    }
   ],
   "source": [
    "spectrum_header = [fits.getheader(file, ext=0) for file in spectrum_files]\n",
    "spectrum_x1d = [Table.read(file, hdu=1) for file in spectrum_files]"
   ]
  },
  {
   "cell_type": "code",
   "execution_count": 7,
   "id": "c25d3b9b",
   "metadata": {},
   "outputs": [],
   "source": [
    "date = [header['DATE'] for header in spectrum_header]\n",
    "observing_run = [header['ROOTNAME'] for header in spectrum_header]\n",
    "instrument = [header['INSTRUME'] for header in spectrum_header]\n",
    "instrument_filter = [header['OPT_ELEM'] for header in spectrum_header]"
   ]
  },
  {
   "cell_type": "code",
   "execution_count": 8,
   "id": "e527ba2e",
   "metadata": {},
   "outputs": [],
   "source": [
    "#from each spectrum, function to get specific lines OR specific transitions from France emission_lines.csv\n",
    "\n",
    "lines = pd.read_csv('HST/emission_lines.csv', skiprows=2)\n",
    "lab_emission_lines = lines['lab_lambda']\n",
    "transition_grouped_lines = lines.groupby(\"[nu', J']\")"
   ]
  },
  {
   "cell_type": "code",
   "execution_count": 78,
   "id": "04d3a56a",
   "metadata": {},
   "outputs": [
    {
     "data": {
      "text/html": [
       "<div><i>Table length=2</i>\n",
       "<table id=\"table140006486874992\" class=\"table-striped table-bordered table-condensed\">\n",
       "<thead><tr><th>SEGMENT</th><th>EXPTIME</th><th>NELEM</th><th>WAVELENGTH</th><th>FLUX</th><th>ERROR</th><th>ERROR_LOWER</th><th>GROSS</th><th>GCOUNTS</th><th>VARIANCE_FLAT</th><th>VARIANCE_COUNTS</th><th>VARIANCE_BKG</th><th>NET</th><th>BACKGROUND</th><th>DQ</th><th>DQ_WGT</th></tr></thead>\n",
       "<thead><tr><th></th><th>s</th><th></th><th>Angstrom</th><th>erg / (Angstrom s cm2)</th><th>erg / (Angstrom s cm2)</th><th>erg / (Angstrom s cm2)</th><th>ct / s</th><th>ct</th><th>ct</th><th>ct</th><th>ct</th><th>ct / s</th><th>ct / s</th><th></th><th></th></tr></thead>\n",
       "<thead><tr><th>bytes4</th><th>float64</th><th>int32</th><th>float64[16384]</th><th>float32[16384]</th><th>float32[16384]</th><th>float32[16384]</th><th>float32[16384]</th><th>float32[16384]</th><th>float32[16384]</th><th>float32[16384]</th><th>float32[16384]</th><th>float32[16384]</th><th>float32[16384]</th><th>int16[16384]</th><th>float32[16384]</th></tr></thead>\n",
       "<tr><td>FUVA</td><td>439.008</td><td>16384</td><td>1574.175598677498 .. 1774.827438367698</td><td>0.0 .. 0.0</td><td>0.0 .. 0.0</td><td>0.0 .. 0.0</td><td>0.0 .. 0.0</td><td>0.0 .. 0.0</td><td>0.0 .. 0.0</td><td>0.0 .. 0.0</td><td>0.0 .. 0.0</td><td>0.0 .. 0.0</td><td>0.0 .. 0.0</td><td>128 .. 128</td><td>0.0 .. 0.0</td></tr>\n",
       "<tr><td>FUVB</td><td>439.008</td><td>16384</td><td>1385.9929259052471 .. 1586.5165840120032</td><td>0.0 .. 0.0</td><td>0.0 .. 0.0</td><td>0.0 .. 0.0</td><td>0.0 .. 0.0</td><td>0.0 .. 0.0</td><td>0.0 .. 0.0</td><td>0.0 .. 0.0</td><td>0.0 .. 0.0</td><td>0.0 .. 0.0</td><td>0.0 .. 0.0</td><td>128 .. 128</td><td>0.0 .. 0.0</td></tr>\n",
       "</table></div>"
      ],
      "text/plain": [
       "<Table length=2>\n",
       "SEGMENT EXPTIME  NELEM  ...   BACKGROUND        DQ          DQ_WGT    \n",
       "           s            ...     ct / s                                \n",
       " bytes4 float64  int32  ... float32[16384] int16[16384] float32[16384]\n",
       "------- -------- ------ ... -------------- ------------ --------------\n",
       "   FUVA  439.008  16384 ...     0.0 .. 0.0   128 .. 128     0.0 .. 0.0\n",
       "   FUVB  439.008  16384 ...     0.0 .. 0.0   128 .. 128     0.0 .. 0.0"
      ]
     },
     "execution_count": 78,
     "metadata": {},
     "output_type": "execute_result"
    }
   ],
   "source": [
    "spectrum_x1d[50]"
   ]
  },
  {
   "cell_type": "code",
   "execution_count": null,
   "id": "75631e05",
   "metadata": {},
   "outputs": [
    {
     "name": "stderr",
     "output_type": "stream",
     "text": [
      "WARNING: Spectrum is not below the threshold signal-to-noise 0.01. This may indicate you have not continuum subtracted this spectrum (or that you have but it has high SNR features).\n",
      "\n",
      "If you want to suppress this warning either type 'specutils.conf.do_continuum_function_check = False' or see http://docs.astropy.org/en/stable/config/#adding-new-configuration-items for other ways to configure the warning. [specutils.analysis.flux]\n"
     ]
    }
   ],
   "source": [
    "flux_units = (u.erg/(u.AA*u.s*(u.cm**-2)))\n",
    "\n",
    "x1d_wavelength = np.concatenate(spectrum_x1d[0]['WAVELENGTH'])*u.AA\n",
    "wavesort_idx = np.argsort(x1d_wavelength)\n",
    "x1d_wavelength = x1d_wavelength[wavesort_idx]\n",
    "\n",
    "x1d_flux = np.concatenate(spectrum_x1d[0]['FLUX'])*flux_units\n",
    "x1d_fluxerr = np.concatenate(spectrum_x1d[0]['ERROR'])*flux_units\n",
    "\n",
    "x1d_flux = x1d_flux[wavesort_idx]\n",
    "x1d_fluxerr = x1d_fluxerr[wavesort_idx]"
   ]
  },
  {
   "cell_type": "code",
   "execution_count": null,
   "id": "bac91231",
   "metadata": {},
   "outputs": [],
   "source": [
    "# spectrum = Spectrum1D(flux = x1d_flux, spectral_axis=x1d_wavelength)\n",
    "# x1d_lines = find_lines_derivative(spectrum) #noise_factor is the threshold (x*flux error)\n",
    "# x1d_emissions = x1d_lines[x1d_lines['line_type']=='emission']"
   ]
  },
  {
   "cell_type": "code",
   "execution_count": 119,
   "id": "e2a1cb2e",
   "metadata": {},
   "outputs": [
    {
     "data": {
      "image/png": "[encoded data removed]",
      "text/plain": [
       "<Figure size 640x480 with 1 Axes>"
      ]
     },
     "metadata": {},
     "output_type": "display_data"
    }
   ],
   "source": [
    "peaks , _ = find_peaks(x1d_flux, height=max(x1d_fluxerr.value), distance=100)\n",
    "plt.plot(x1d_wavelength,x1d_flux)\n",
    "plt.scatter(x1d_wavelength[peaks], x1d_flux[peaks], c='red', marker='x')\n",
    "plt.xlim(left=1390)\n",
    "plt.show()"
   ]
  },
  {
   "cell_type": "code",
   "execution_count": 120,
   "id": "cc505cc7",
   "metadata": {},
   "outputs": [],
   "source": [
    "#Find the emission lines associated with H2 fluorescence\n",
    "emission_table_idx = []\n",
    "lab_line_row = []\n",
    "for i, l in enumerate(lines['lab_lambda']):\n",
    "    diff = abs(x1d_wavelength[peaks]/u.AA-l)\n",
    "    if min(diff) < 5:\n",
    "        emission_table_idx.append(np.argmin(diff))\n",
    "        lab_line_row.append(lines.iloc[i])"
   ]
  },
  {
   "cell_type": "code",
   "execution_count": 122,
   "id": "221b2479",
   "metadata": {},
   "outputs": [
    {
     "data": {
      "image/png": "[encoded data removed]",
      "text/plain": [
       "<Figure size 640x480 with 1 Axes>"
      ]
     },
     "metadata": {},
     "output_type": "display_data"
    }
   ],
   "source": [
    "plt.scatter(np.array(x1d_wavelength[peaks])[emission_table_idx], np.array(x1d_flux[peaks])[emission_table_idx], c='r', marker='x')\n",
    "plt.plot(x1d_wavelength,x1d_flux)\n",
    "#plt.xlim(left=1380)\n",
    "plt.show()"
   ]
  },
  {
   "cell_type": "code",
   "execution_count": 139,
   "id": "29a87fc1",
   "metadata": {},
   "outputs": [],
   "source": [
    "x1d_h2_emissions_idx = np.array(peaks)[emission_table_idx]\n",
    "x1d_h2_emissions_flux = [x1d_flux[idx-150:idx+150] for idx in x1d_h2_emissions_idx]\n",
    "x1d_h2_emissions_fluxerr = [x1d_fluxerr[idx-150:idx+150] for idx in x1d_h2_emissions_idx]\n",
    "x1d_h2_emissions_wavelength = [x1d_wavelength[idx-150:idx+150] for idx in x1d_h2_emissions_idx]"
   ]
  },
  {
   "cell_type": "code",
   "execution_count": 140,
   "id": "4dcde63a",
   "metadata": {},
   "outputs": [
    {
     "data": {
      "image/png": "[encoded data removed]",
      "text/plain": [
       "<Figure size 640x480 with 1 Axes>"
      ]
     },
     "metadata": {},
     "output_type": "display_data"
    }
   ],
   "source": [
    "plt.scatter(np.array(x1d_wavelength)[x1d_h2_emissions_idx], np.array(x1d_flux)[x1d_h2_emissions_idx], c='r', marker='x')\n",
    "plt.plot(x1d_wavelength, x1d_flux)\n",
    "plt.xlim(left=1380)\n",
    "plt.show()"
   ]
  },
  {
   "cell_type": "code",
   "execution_count": 141,
   "id": "1b633fbe",
   "metadata": {},
   "outputs": [],
   "source": [
    "colnames = ['Line ID', \"[nu', J']\", \"lab_lambda\", \"spec_flux\", \"spec_fluxerr\", \"spec_wavelength\"]\n",
    "\n",
    "line_ID = np.array(lab_line_row)[:, 0]\n",
    "nu_J = np.array(lab_line_row)[:, 1]\n",
    "lab_lambda = np.array(lab_line_row)[:, 2]\n",
    "\n",
    "# Ensure all are 1D numpy arrays or lists of same length\n",
    "line_ID = np.asarray(line_ID)\n",
    "nu_J = np.asarray(nu_J)\n",
    "lab_lambda = np.asarray(lab_lambda)\n",
    "flux = np.asarray(x1d_h2_emissions_flux)\n",
    "fluxerr = np.asarray(x1d_h2_emissions_fluxerr)\n",
    "wavelength = np.asarray(x1d_h2_emissions_wavelength)\n",
    "\n",
    "# Combine row-wise\n",
    "data = list(zip(line_ID, nu_J, lab_lambda, flux, fluxerr, wavelength))\n",
    "spectrum_df = pd.DataFrame(data, columns=colnames)\n"
   ]
  },
  {
   "cell_type": "code",
   "execution_count": 142,
   "id": "fb90a347",
   "metadata": {},
   "outputs": [
    {
     "data": {
      "text/html": [
       "<div>\n",
       "<style scoped>\n",
       "    .dataframe tbody tr th:only-of-type {\n",
       "        vertical-align: middle;\n",
       "    }\n",
       "\n",
       "    .dataframe tbody tr th {\n",
       "        vertical-align: top;\n",
       "    }\n",
       "\n",
       "    .dataframe thead th {\n",
       "        text-align: right;\n",
       "    }\n",
       "</style>\n",
       "<table border=\"1\" class=\"dataframe\">\n",
       "  <thead>\n",
       "    <tr style=\"text-align: right;\">\n",
       "      <th></th>\n",
       "      <th>Line ID</th>\n",
       "      <th>[nu', J']</th>\n",
       "      <th>lab_lambda</th>\n",
       "      <th>spec_flux</th>\n",
       "      <th>spec_fluxerr</th>\n",
       "      <th>spec_wavelength</th>\n",
       "    </tr>\n",
       "    <tr>\n",
       "      <th>[nu', J']</th>\n",
       "      <th></th>\n",
       "      <th></th>\n",
       "      <th></th>\n",
       "      <th></th>\n",
       "      <th></th>\n",
       "      <th></th>\n",
       "    </tr>\n",
       "  </thead>\n",
       "  <tbody>\n",
       "    <tr>\n",
       "      <th>[0,1]</th>\n",
       "      <td>(0–5)P(2)</td>\n",
       "      <td>[0,1]</td>\n",
       "      <td>1398.95</td>\n",
       "      <td>[1.21163786e-14, 3.3364664e-15, 8.605035e-15, ...</td>\n",
       "      <td>[6.605128e-15, 4.614609e-15, 5.9240595e-15, 5....</td>\n",
       "      <td>[1397.4286755125863, 1397.4386400541223, 1397....</td>\n",
       "    </tr>\n",
       "    <tr>\n",
       "      <th>[0,2]</th>\n",
       "      <td>(0–5)P(3)</td>\n",
       "      <td>[0,2]</td>\n",
       "      <td>1402.65</td>\n",
       "      <td>[2.1157536e-14, 1.4012364e-14, 3.366967e-14, 2...</td>\n",
       "      <td>[8.116929e-15, 7.0180144e-15, 9.681462e-15, 8....</td>\n",
       "      <td>[1401.085662256328, 1401.095626797864, 1401.10...</td>\n",
       "    </tr>\n",
       "    <tr>\n",
       "      <th>[0,3]</th>\n",
       "      <td>(0–5)R(2)</td>\n",
       "      <td>[0,3]</td>\n",
       "      <td>1395.20</td>\n",
       "      <td>[2.205752e-14, 1.8625123e-14, 1.1750893e-14, 2...</td>\n",
       "      <td>[8.0651275e-15, 7.582982e-15, 6.474092e-15, 7....</td>\n",
       "      <td>[1392.4065465784015, 1392.4165111199375, 1392....</td>\n",
       "    </tr>\n",
       "    <tr>\n",
       "      <th>[0,3]</th>\n",
       "      <td>(0–5)P(4)</td>\n",
       "      <td>[0,3]</td>\n",
       "      <td>1407.29</td>\n",
       "      <td>[2.1157536e-14, 1.4012364e-14, 3.366967e-14, 2...</td>\n",
       "      <td>[8.116929e-15, 7.0180144e-15, 9.681462e-15, 8....</td>\n",
       "      <td>[1401.085662256328, 1401.095626797864, 1401.10...</td>\n",
       "    </tr>\n",
       "  </tbody>\n",
       "</table>\n",
       "</div>"
      ],
      "text/plain": [
       "             Line ID [nu', J']  lab_lambda  \\\n",
       "[nu', J']                                    \n",
       "[0,1]      (0–5)P(2)     [0,1]     1398.95   \n",
       "[0,2]      (0–5)P(3)     [0,2]     1402.65   \n",
       "[0,3]      (0–5)R(2)     [0,3]     1395.20   \n",
       "[0,3]      (0–5)P(4)     [0,3]     1407.29   \n",
       "\n",
       "                                                   spec_flux  \\\n",
       "[nu', J']                                                      \n",
       "[0,1]      [1.21163786e-14, 3.3364664e-15, 8.605035e-15, ...   \n",
       "[0,2]      [2.1157536e-14, 1.4012364e-14, 3.366967e-14, 2...   \n",
       "[0,3]      [2.205752e-14, 1.8625123e-14, 1.1750893e-14, 2...   \n",
       "[0,3]      [2.1157536e-14, 1.4012364e-14, 3.366967e-14, 2...   \n",
       "\n",
       "                                                spec_fluxerr  \\\n",
       "[nu', J']                                                      \n",
       "[0,1]      [6.605128e-15, 4.614609e-15, 5.9240595e-15, 5....   \n",
       "[0,2]      [8.116929e-15, 7.0180144e-15, 9.681462e-15, 8....   \n",
       "[0,3]      [8.0651275e-15, 7.582982e-15, 6.474092e-15, 7....   \n",
       "[0,3]      [8.116929e-15, 7.0180144e-15, 9.681462e-15, 8....   \n",
       "\n",
       "                                             spec_wavelength  \n",
       "[nu', J']                                                     \n",
       "[0,1]      [1397.4286755125863, 1397.4386400541223, 1397....  \n",
       "[0,2]      [1401.085662256328, 1401.095626797864, 1401.10...  \n",
       "[0,3]      [1392.4065465784015, 1392.4165111199375, 1392....  \n",
       "[0,3]      [1401.085662256328, 1401.095626797864, 1401.10...  "
      ]
     },
     "execution_count": 142,
     "metadata": {},
     "output_type": "execute_result"
    }
   ],
   "source": [
    "spectrum_df.index = spectrum_df[\"[nu', J']\"]\n",
    "spectrum_df"
   ]
  },
  {
   "cell_type": "code",
   "execution_count": 147,
   "id": "7420562b",
   "metadata": {},
   "outputs": [
    {
     "data": {
      "text/plain": [
       "[<matplotlib.lines.Line2D at 0x7f55c543f760>]"
      ]
     },
     "execution_count": 147,
     "metadata": {},
     "output_type": "execute_result"
    },
    {
     "data": {
      "image/png": "[encoded data removed]",
      "text/plain": [
       "<Figure size 640x480 with 1 Axes>"
      ]
     },
     "metadata": {},
     "output_type": "display_data"
    }
   ],
   "source": [
    "transition='[0,3]'\n",
    "plt.plot(np.hstack(spectrum_df['spec_wavelength'][transition]), np.hstack(spectrum_df['spec_flux'][transition]))"
   ]
  },
  {
   "cell_type": "markdown",
   "id": "ba622237",
   "metadata": {},
   "source": [
    "# Do this for every file, just keep the line centers though. Making it a function"
   ]
  },
  {
   "cell_type": "markdown",
   "id": "1ee82062",
   "metadata": {},
   "source": []
  }
 ],
 "metadata": {
  "kernelspec": {
   "display_name": "astrotest",
   "language": "python",
   "name": "python3"
  },
  "language_info": {
   "codemirror_mode": {
    "name": "ipython",
    "version": 3
   },
   "file_extension": ".py",
   "mimetype": "text/x-python",
   "name": "python",
   "nbconvert_exporter": "python",
   "pygments_lexer": "ipython3",
   "version": "3.10.12"
  }
 },
 "nbformat": 4,
 "nbformat_minor": 5
}
