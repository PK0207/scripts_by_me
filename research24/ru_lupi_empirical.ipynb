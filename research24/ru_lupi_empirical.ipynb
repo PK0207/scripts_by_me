{
 "cells": [
  {
   "cell_type": "code",
   "execution_count": 10,
   "id": "3a65acae",
   "metadata": {},
   "outputs": [],
   "source": [
    "import os\n",
    "import numpy as np\n",
    "import matplotlib.pyplot as plt\n",
    "import astropy.units as u\n",
    "\n",
    "from astropy.io import fits\n",
    "from astropy.table import Table\n",
    "from specutils import Spectrum1D\n",
    "from scipy.optimize import curve_fit\n",
    "from astropy.stats import sigma_clip\n",
    "from glob import glob"
   ]
  },
  {
   "cell_type": "code",
   "execution_count": 29,
   "id": "54f24f2c",
   "metadata": {},
   "outputs": [
    {
     "data": {
      "text/plain": [
       "['HST/mastDownload/HST/lbgj02040/lbgj02040_x1dsum.fits',\n",
       " 'HST/mastDownload/HST/lbgj02050/lbgj02050_x1dsum.fits',\n",
       " 'HST/mastDownload/HST/lbgj02060/lbgj02060_x1dsum.fits',\n",
       " 'HST/mastDownload/HST/lbgj02070/lbgj02070_x1dsum.fits',\n",
       " 'HST/mastDownload/HST/lbgj02080/lbgj02080_x1dsum.fits',\n",
       " 'HST/mastDownload/HST/lbgj02090/lbgj02090_x1dsum.fits',\n",
       " 'HST/mastDownload/HST/lbgj020a0/lbgj020a0_x1dsum.fits',\n",
       " 'HST/mastDownload/HST/lbgj020b0/lbgj020b0_x1dsum.fits',\n",
       " 'HST/mastDownload/HST/lbgj53040/lbgj53040_x1dsum.fits',\n",
       " 'HST/mastDownload/HST/lbgj53050/lbgj53050_x1dsum.fits',\n",
       " 'HST/mastDownload/HST/lbgj53060/lbgj53060_x1dsum.fits',\n",
       " 'HST/mastDownload/HST/lbgj53070/lbgj53070_x1dsum.fits',\n",
       " 'HST/mastDownload/HST/lbgj53080/lbgj53080_x1dsum.fits',\n",
       " 'HST/mastDownload/HST/lbgj53090/lbgj53090_x1dsum.fits',\n",
       " 'HST/mastDownload/HST/lbgj530a0/lbgj530a0_x1dsum.fits',\n",
       " 'HST/mastDownload/HST/lbgj530b0/lbgj530b0_x1dsum.fits',\n",
       " 'HST/mastDownload/HST/leit1c030/leit1c030_x1dsum.fits',\n",
       " 'HST/mastDownload/HST/leit1c040/leit1c040_x1dsum.fits',\n",
       " 'HST/mastDownload/HST/leit1d030/leit1d030_x1dsum.fits',\n",
       " 'HST/mastDownload/HST/leit1d040/leit1d040_x1dsum.fits',\n",
       " 'HST/mastDownload/HST/leit1e030/leit1e030_x1dsum.fits',\n",
       " 'HST/mastDownload/HST/leit1e040/leit1e040_x1dsum.fits',\n",
       " 'HST/mastDownload/HST/leit1f030/leit1f030_x1dsum.fits',\n",
       " 'HST/mastDownload/HST/leit1f040/leit1f040_x1dsum.fits',\n",
       " 'HST/mastDownload/HST/leit1g030/leit1g030_x1dsum.fits',\n",
       " 'HST/mastDownload/HST/leit1g040/leit1g040_x1dsum.fits',\n",
       " 'HST/mastDownload/HST/leit1h030/leit1h030_x1dsum.fits',\n",
       " 'HST/mastDownload/HST/leit1h040/leit1h040_x1dsum.fits',\n",
       " 'HST/mastDownload/HST/leit1i030/leit1i030_x1dsum.fits',\n",
       " 'HST/mastDownload/HST/leit1i040/leit1i040_x1dsum.fits',\n",
       " 'HST/mastDownload/HST/leit1j030/leit1j030_x1dsum.fits',\n",
       " 'HST/mastDownload/HST/leit1j040/leit1j040_x1dsum.fits',\n",
       " 'HST/mastDownload/HST/leit1k030/leit1k030_x1dsum.fits',\n",
       " 'HST/mastDownload/HST/leit1k040/leit1k040_x1dsum.fits',\n",
       " 'HST/mastDownload/HST/leit1l030/leit1l030_x1dsum.fits',\n",
       " 'HST/mastDownload/HST/leit1l040/leit1l040_x1dsum.fits',\n",
       " 'HST/mastDownload/HST/leit1m030/leit1m030_x1dsum.fits',\n",
       " 'HST/mastDownload/HST/leit1m040/leit1m040_x1dsum.fits',\n",
       " 'HST/mastDownload/HST/leit1n030/leit1n030_x1dsum.fits',\n",
       " 'HST/mastDownload/HST/leit1n040/leit1n040_x1dsum.fits',\n",
       " 'HST/mastDownload/HST/leitad030/leitad030_x1dsum.fits',\n",
       " 'HST/mastDownload/HST/leitad040/leitad040_x1dsum.fits',\n",
       " 'HST/mastDownload/HST/leph1c030/leph1c030_x1dsum.fits',\n",
       " 'HST/mastDownload/HST/leph1c040/leph1c040_x1dsum.fits',\n",
       " 'HST/mastDownload/HST/leph1d030/leph1d030_x1dsum.fits',\n",
       " 'HST/mastDownload/HST/leph1d040/leph1d040_x1dsum.fits',\n",
       " 'HST/mastDownload/HST/leph1e030/leph1e030_x1dsum.fits',\n",
       " 'HST/mastDownload/HST/leph1e040/leph1e040_x1dsum.fits',\n",
       " 'HST/mastDownload/HST/leph1f030/leph1f030_x1dsum.fits',\n",
       " 'HST/mastDownload/HST/leph1f040/leph1f040_x1dsum.fits',\n",
       " 'HST/mastDownload/HST/leph1g030/leph1g030_x1dsum.fits',\n",
       " 'HST/mastDownload/HST/leph1g040/leph1g040_x1dsum.fits',\n",
       " 'HST/mastDownload/HST/leph1h030/leph1h030_x1dsum.fits',\n",
       " 'HST/mastDownload/HST/leph1h040/leph1h040_x1dsum.fits',\n",
       " 'HST/mastDownload/HST/leph1i030/leph1i030_x1dsum.fits',\n",
       " 'HST/mastDownload/HST/leph1i040/leph1i040_x1dsum.fits',\n",
       " 'HST/mastDownload/HST/leph1j030/leph1j030_x1dsum.fits',\n",
       " 'HST/mastDownload/HST/leph1j040/leph1j040_x1dsum.fits',\n",
       " 'HST/mastDownload/HST/leph1k030/leph1k030_x1dsum.fits',\n",
       " 'HST/mastDownload/HST/leph1k040/leph1k040_x1dsum.fits',\n",
       " 'HST/mastDownload/HST/leph1l030/leph1l030_x1dsum.fits',\n",
       " 'HST/mastDownload/HST/leph1l040/leph1l040_x1dsum.fits',\n",
       " 'HST/mastDownload/HST/leph1m030/leph1m030_x1dsum.fits',\n",
       " 'HST/mastDownload/HST/leph1m040/leph1m040_x1dsum.fits',\n",
       " 'HST/mastDownload/HST/leph1n030/leph1n030_x1dsum.fits',\n",
       " 'HST/mastDownload/HST/leph1n040/leph1n040_x1dsum.fits',\n",
       " 'HST/mastDownload/HST/lephad030/lephad030_x1dsum.fits',\n",
       " 'HST/mastDownload/HST/lephad040/lephad040_x1dsum.fits',\n",
       " 'HST/mastDownload/HST/lephae030/lephae030_x1dsum.fits',\n",
       " 'HST/mastDownload/HST/lephae040/lephae040_x1dsum.fits']"
      ]
     },
     "execution_count": 29,
     "metadata": {},
     "output_type": "execute_result"
    }
   ],
   "source": [
    "# Load in RU Lupi data\n",
    "spectrum_files = glob(os.path.join('HST','mastDownload','HST','*','*x1dsum.fits'))\n",
    "spectrum_files"
   ]
  },
  {
   "cell_type": "code",
   "execution_count": 31,
   "id": "79603155",
   "metadata": {},
   "outputs": [
    {
     "ename": "OSError",
     "evalue": "Empty or corrupt FITS file",
     "output_type": "error",
     "traceback": [
      "\u001b[0;31m---------------------------------------------------------------------------\u001b[0m",
      "\u001b[0;31mOSError\u001b[0m                                   Traceback (most recent call last)",
      "Cell \u001b[0;32mIn[31], line 1\u001b[0m\n\u001b[0;32m----> 1\u001b[0m spectrum_header \u001b[38;5;241m=\u001b[39m [fits\u001b[38;5;241m.\u001b[39mgetheader(file,ext\u001b[38;5;241m=\u001b[39m\u001b[38;5;241m0\u001b[39m) \u001b[38;5;28;01mfor\u001b[39;00m file \u001b[38;5;129;01min\u001b[39;00m spectrum_files]\n\u001b[1;32m      2\u001b[0m spectrum_x1d \u001b[38;5;241m=\u001b[39m []\n\u001b[1;32m      3\u001b[0m \u001b[38;5;28;01mfor\u001b[39;00m file \u001b[38;5;129;01min\u001b[39;00m spectrum_files:\n",
      "Cell \u001b[0;32mIn[31], line 1\u001b[0m, in \u001b[0;36m<listcomp>\u001b[0;34m(.0)\u001b[0m\n\u001b[0;32m----> 1\u001b[0m spectrum_header \u001b[38;5;241m=\u001b[39m [\u001b[43mfits\u001b[49m\u001b[38;5;241;43m.\u001b[39;49m\u001b[43mgetheader\u001b[49m\u001b[43m(\u001b[49m\u001b[43mfile\u001b[49m\u001b[43m,\u001b[49m\u001b[43mext\u001b[49m\u001b[38;5;241;43m=\u001b[39;49m\u001b[38;5;241;43m0\u001b[39;49m\u001b[43m)\u001b[49m \u001b[38;5;28;01mfor\u001b[39;00m file \u001b[38;5;129;01min\u001b[39;00m spectrum_files]\n\u001b[1;32m      2\u001b[0m spectrum_x1d \u001b[38;5;241m=\u001b[39m []\n\u001b[1;32m      3\u001b[0m \u001b[38;5;28;01mfor\u001b[39;00m file \u001b[38;5;129;01min\u001b[39;00m spectrum_files:\n",
      "File \u001b[0;32m/mnt/c/Users/prera/Documents/GitHub/scripts_by_me/research24/astrotest/lib/python3.10/site-packages/astropy/io/fits/convenience.py:121\u001b[0m, in \u001b[0;36mgetheader\u001b[0;34m(filename, *args, **kwargs)\u001b[0m\n\u001b[1;32m    100\u001b[0m \u001b[38;5;250m\u001b[39m\u001b[38;5;124;03m\"\"\"\u001b[39;00m\n\u001b[1;32m    101\u001b[0m \u001b[38;5;124;03mGet the header from an HDU of a FITS file.\u001b[39;00m\n\u001b[1;32m    102\u001b[0m \n\u001b[0;32m   (...)\u001b[0m\n\u001b[1;32m    118\u001b[0m \u001b[38;5;124;03mheader : `Header` object\u001b[39;00m\n\u001b[1;32m    119\u001b[0m \u001b[38;5;124;03m\"\"\"\u001b[39;00m\n\u001b[1;32m    120\u001b[0m mode, closed \u001b[38;5;241m=\u001b[39m _get_file_mode(filename)\n\u001b[0;32m--> 121\u001b[0m hdulist, extidx \u001b[38;5;241m=\u001b[39m \u001b[43m_getext\u001b[49m\u001b[43m(\u001b[49m\u001b[43mfilename\u001b[49m\u001b[43m,\u001b[49m\u001b[43m \u001b[49m\u001b[43mmode\u001b[49m\u001b[43m,\u001b[49m\u001b[43m \u001b[49m\u001b[38;5;241;43m*\u001b[39;49m\u001b[43margs\u001b[49m\u001b[43m,\u001b[49m\u001b[43m \u001b[49m\u001b[38;5;241;43m*\u001b[39;49m\u001b[38;5;241;43m*\u001b[39;49m\u001b[43mkwargs\u001b[49m\u001b[43m)\u001b[49m\n\u001b[1;32m    122\u001b[0m \u001b[38;5;28;01mtry\u001b[39;00m:\n\u001b[1;32m    123\u001b[0m     hdu \u001b[38;5;241m=\u001b[39m hdulist[extidx]\n",
      "File \u001b[0;32m/mnt/c/Users/prera/Documents/GitHub/scripts_by_me/research24/astrotest/lib/python3.10/site-packages/astropy/io/fits/convenience.py:1121\u001b[0m, in \u001b[0;36m_getext\u001b[0;34m(filename, mode, ext, extname, extver, *args, **kwargs)\u001b[0m\n\u001b[1;32m   1118\u001b[0m \u001b[38;5;28;01melif\u001b[39;00m extver \u001b[38;5;129;01mand\u001b[39;00m extname \u001b[38;5;129;01mis\u001b[39;00m \u001b[38;5;28;01mNone\u001b[39;00m:\n\u001b[1;32m   1119\u001b[0m     \u001b[38;5;28;01mraise\u001b[39;00m \u001b[38;5;167;01mTypeError\u001b[39;00m(\u001b[38;5;124m\"\u001b[39m\u001b[38;5;124mextver alone cannot specify an extension.\u001b[39m\u001b[38;5;124m\"\u001b[39m)\n\u001b[0;32m-> 1121\u001b[0m hdulist \u001b[38;5;241m=\u001b[39m \u001b[43mfitsopen\u001b[49m\u001b[43m(\u001b[49m\u001b[43mfilename\u001b[49m\u001b[43m,\u001b[49m\u001b[43m \u001b[49m\u001b[43mmode\u001b[49m\u001b[38;5;241;43m=\u001b[39;49m\u001b[43mmode\u001b[49m\u001b[43m,\u001b[49m\u001b[43m \u001b[49m\u001b[38;5;241;43m*\u001b[39;49m\u001b[38;5;241;43m*\u001b[39;49m\u001b[43mkwargs\u001b[49m\u001b[43m)\u001b[49m\n\u001b[1;32m   1123\u001b[0m \u001b[38;5;28;01mreturn\u001b[39;00m hdulist, ext\n",
      "File \u001b[0;32m/mnt/c/Users/prera/Documents/GitHub/scripts_by_me/research24/astrotest/lib/python3.10/site-packages/astropy/io/fits/hdu/hdulist.py:223\u001b[0m, in \u001b[0;36mfitsopen\u001b[0;34m(name, mode, memmap, save_backup, cache, lazy_load_hdus, ignore_missing_simple, use_fsspec, fsspec_kwargs, decompress_in_memory, **kwargs)\u001b[0m\n\u001b[1;32m    220\u001b[0m \u001b[38;5;28;01mif\u001b[39;00m \u001b[38;5;129;01mnot\u001b[39;00m name:\n\u001b[1;32m    221\u001b[0m     \u001b[38;5;28;01mraise\u001b[39;00m \u001b[38;5;167;01mValueError\u001b[39;00m(\u001b[38;5;124mf\u001b[39m\u001b[38;5;124m\"\u001b[39m\u001b[38;5;124mEmpty filename: \u001b[39m\u001b[38;5;132;01m{\u001b[39;00mname\u001b[38;5;132;01m!r}\u001b[39;00m\u001b[38;5;124m\"\u001b[39m)\n\u001b[0;32m--> 223\u001b[0m \u001b[38;5;28;01mreturn\u001b[39;00m \u001b[43mHDUList\u001b[49m\u001b[38;5;241;43m.\u001b[39;49m\u001b[43mfromfile\u001b[49m\u001b[43m(\u001b[49m\n\u001b[1;32m    224\u001b[0m \u001b[43m    \u001b[49m\u001b[43mname\u001b[49m\u001b[43m,\u001b[49m\n\u001b[1;32m    225\u001b[0m \u001b[43m    \u001b[49m\u001b[43mmode\u001b[49m\u001b[43m,\u001b[49m\n\u001b[1;32m    226\u001b[0m \u001b[43m    \u001b[49m\u001b[43mmemmap\u001b[49m\u001b[43m,\u001b[49m\n\u001b[1;32m    227\u001b[0m \u001b[43m    \u001b[49m\u001b[43msave_backup\u001b[49m\u001b[43m,\u001b[49m\n\u001b[1;32m    228\u001b[0m \u001b[43m    \u001b[49m\u001b[43mcache\u001b[49m\u001b[43m,\u001b[49m\n\u001b[1;32m    229\u001b[0m \u001b[43m    \u001b[49m\u001b[43mlazy_load_hdus\u001b[49m\u001b[43m,\u001b[49m\n\u001b[1;32m    230\u001b[0m \u001b[43m    \u001b[49m\u001b[43mignore_missing_simple\u001b[49m\u001b[43m,\u001b[49m\n\u001b[1;32m    231\u001b[0m \u001b[43m    \u001b[49m\u001b[43muse_fsspec\u001b[49m\u001b[38;5;241;43m=\u001b[39;49m\u001b[43muse_fsspec\u001b[49m\u001b[43m,\u001b[49m\n\u001b[1;32m    232\u001b[0m \u001b[43m    \u001b[49m\u001b[43mfsspec_kwargs\u001b[49m\u001b[38;5;241;43m=\u001b[39;49m\u001b[43mfsspec_kwargs\u001b[49m\u001b[43m,\u001b[49m\n\u001b[1;32m    233\u001b[0m \u001b[43m    \u001b[49m\u001b[43mdecompress_in_memory\u001b[49m\u001b[38;5;241;43m=\u001b[39;49m\u001b[43mdecompress_in_memory\u001b[49m\u001b[43m,\u001b[49m\n\u001b[1;32m    234\u001b[0m \u001b[43m    \u001b[49m\u001b[38;5;241;43m*\u001b[39;49m\u001b[38;5;241;43m*\u001b[39;49m\u001b[43mkwargs\u001b[49m\u001b[43m,\u001b[49m\n\u001b[1;32m    235\u001b[0m \u001b[43m\u001b[49m\u001b[43m)\u001b[49m\n",
      "File \u001b[0;32m/mnt/c/Users/prera/Documents/GitHub/scripts_by_me/research24/astrotest/lib/python3.10/site-packages/astropy/io/fits/hdu/hdulist.py:487\u001b[0m, in \u001b[0;36mHDUList.fromfile\u001b[0;34m(cls, fileobj, mode, memmap, save_backup, cache, lazy_load_hdus, ignore_missing_simple, **kwargs)\u001b[0m\n\u001b[1;32m    468\u001b[0m \u001b[38;5;129m@classmethod\u001b[39m\n\u001b[1;32m    469\u001b[0m \u001b[38;5;28;01mdef\u001b[39;00m \u001b[38;5;21mfromfile\u001b[39m(\n\u001b[1;32m    470\u001b[0m     \u001b[38;5;28mcls\u001b[39m,\n\u001b[0;32m   (...)\u001b[0m\n\u001b[1;32m    478\u001b[0m     \u001b[38;5;241m*\u001b[39m\u001b[38;5;241m*\u001b[39mkwargs,\n\u001b[1;32m    479\u001b[0m ):\n\u001b[1;32m    480\u001b[0m \u001b[38;5;250m    \u001b[39m\u001b[38;5;124;03m\"\"\"\u001b[39;00m\n\u001b[1;32m    481\u001b[0m \u001b[38;5;124;03m    Creates an `HDUList` instance from a file-like object.\u001b[39;00m\n\u001b[1;32m    482\u001b[0m \n\u001b[0;32m   (...)\u001b[0m\n\u001b[1;32m    485\u001b[0m \u001b[38;5;124;03m    documentation for details of the parameters accepted by this method).\u001b[39;00m\n\u001b[1;32m    486\u001b[0m \u001b[38;5;124;03m    \"\"\"\u001b[39;00m\n\u001b[0;32m--> 487\u001b[0m     \u001b[38;5;28;01mreturn\u001b[39;00m \u001b[38;5;28;43mcls\u001b[39;49m\u001b[38;5;241;43m.\u001b[39;49m\u001b[43m_readfrom\u001b[49m\u001b[43m(\u001b[49m\n\u001b[1;32m    488\u001b[0m \u001b[43m        \u001b[49m\u001b[43mfileobj\u001b[49m\u001b[38;5;241;43m=\u001b[39;49m\u001b[43mfileobj\u001b[49m\u001b[43m,\u001b[49m\n\u001b[1;32m    489\u001b[0m \u001b[43m        \u001b[49m\u001b[43mmode\u001b[49m\u001b[38;5;241;43m=\u001b[39;49m\u001b[43mmode\u001b[49m\u001b[43m,\u001b[49m\n\u001b[1;32m    490\u001b[0m \u001b[43m        \u001b[49m\u001b[43mmemmap\u001b[49m\u001b[38;5;241;43m=\u001b[39;49m\u001b[43mmemmap\u001b[49m\u001b[43m,\u001b[49m\n\u001b[1;32m    491\u001b[0m \u001b[43m        \u001b[49m\u001b[43msave_backup\u001b[49m\u001b[38;5;241;43m=\u001b[39;49m\u001b[43msave_backup\u001b[49m\u001b[43m,\u001b[49m\n\u001b[1;32m    492\u001b[0m \u001b[43m        \u001b[49m\u001b[43mcache\u001b[49m\u001b[38;5;241;43m=\u001b[39;49m\u001b[43mcache\u001b[49m\u001b[43m,\u001b[49m\n\u001b[1;32m    493\u001b[0m \u001b[43m        \u001b[49m\u001b[43mignore_missing_simple\u001b[49m\u001b[38;5;241;43m=\u001b[39;49m\u001b[43mignore_missing_simple\u001b[49m\u001b[43m,\u001b[49m\n\u001b[1;32m    494\u001b[0m \u001b[43m        \u001b[49m\u001b[43mlazy_load_hdus\u001b[49m\u001b[38;5;241;43m=\u001b[39;49m\u001b[43mlazy_load_hdus\u001b[49m\u001b[43m,\u001b[49m\n\u001b[1;32m    495\u001b[0m \u001b[43m        \u001b[49m\u001b[38;5;241;43m*\u001b[39;49m\u001b[38;5;241;43m*\u001b[39;49m\u001b[43mkwargs\u001b[49m\u001b[43m,\u001b[49m\n\u001b[1;32m    496\u001b[0m \u001b[43m    \u001b[49m\u001b[43m)\u001b[49m\n",
      "File \u001b[0;32m/mnt/c/Users/prera/Documents/GitHub/scripts_by_me/research24/astrotest/lib/python3.10/site-packages/astropy/io/fits/hdu/hdulist.py:1248\u001b[0m, in \u001b[0;36mHDUList._readfrom\u001b[0;34m(cls, fileobj, data, mode, memmap, cache, lazy_load_hdus, ignore_missing_simple, use_fsspec, fsspec_kwargs, decompress_in_memory, **kwargs)\u001b[0m\n\u001b[1;32m   1245\u001b[0m     \u001b[38;5;28;01mif\u001b[39;00m hdulist\u001b[38;5;241m.\u001b[39m_file\u001b[38;5;241m.\u001b[39mclose_on_error:\n\u001b[1;32m   1246\u001b[0m         hdulist\u001b[38;5;241m.\u001b[39m_file\u001b[38;5;241m.\u001b[39mclose()\n\u001b[0;32m-> 1248\u001b[0m     \u001b[38;5;28;01mraise\u001b[39;00m \u001b[38;5;167;01mOSError\u001b[39;00m(\u001b[38;5;124m\"\u001b[39m\u001b[38;5;124mEmpty or corrupt FITS file\u001b[39m\u001b[38;5;124m\"\u001b[39m)\n\u001b[1;32m   1250\u001b[0m \u001b[38;5;28;01mif\u001b[39;00m \u001b[38;5;129;01mnot\u001b[39;00m lazy_load_hdus \u001b[38;5;129;01mor\u001b[39;00m kwargs\u001b[38;5;241m.\u001b[39mget(\u001b[38;5;124m\"\u001b[39m\u001b[38;5;124mchecksum\u001b[39m\u001b[38;5;124m\"\u001b[39m) \u001b[38;5;129;01mis\u001b[39;00m \u001b[38;5;28;01mTrue\u001b[39;00m:\n\u001b[1;32m   1251\u001b[0m     \u001b[38;5;66;03m# Go ahead and load all HDUs\u001b[39;00m\n\u001b[1;32m   1252\u001b[0m     \u001b[38;5;28;01mwhile\u001b[39;00m hdulist\u001b[38;5;241m.\u001b[39m_read_next_hdu():\n",
      "\u001b[0;31mOSError\u001b[0m: Empty or corrupt FITS file"
     ]
    }
   ],
   "source": [
    "spectrum_header = [fits.getheader(file,ext=0) for file in spectrum_files]\n",
    "spectrum_x1d = []\n",
    "for file in spectrum_files:\n",
    "    print(file)\n",
    "    spectrum_x1d.append(Table.read(file, hdu=1))"
   ]
  },
  {
   "cell_type": "code",
   "execution_count": 30,
   "id": "57fc0c04",
   "metadata": {},
   "outputs": [
    {
     "ename": "OSError",
     "evalue": "Empty or corrupt FITS file",
     "output_type": "error",
     "traceback": [
      "\u001b[0;31m---------------------------------------------------------------------------\u001b[0m",
      "\u001b[0;31mOSError\u001b[0m                                   Traceback (most recent call last)",
      "Cell \u001b[0;32mIn[30], line 1\u001b[0m\n\u001b[0;32m----> 1\u001b[0m spec \u001b[38;5;241m=\u001b[39m \u001b[43mfits\u001b[49m\u001b[38;5;241;43m.\u001b[39;49m\u001b[43mopen\u001b[49m\u001b[43m(\u001b[49m\u001b[38;5;124;43m'\u001b[39;49m\u001b[38;5;124;43mHST/mastDownload/HST/leit1m040/leit1m040_x1dsum.fits\u001b[39;49m\u001b[38;5;124;43m'\u001b[39;49m\u001b[43m)\u001b[49m[\u001b[38;5;241m1\u001b[39m]\n\u001b[1;32m      2\u001b[0m spec\u001b[38;5;241m.\u001b[39mdata\n",
      "File \u001b[0;32m/mnt/c/Users/prera/Documents/GitHub/scripts_by_me/research24/astrotest/lib/python3.10/site-packages/astropy/io/fits/hdu/hdulist.py:223\u001b[0m, in \u001b[0;36mfitsopen\u001b[0;34m(name, mode, memmap, save_backup, cache, lazy_load_hdus, ignore_missing_simple, use_fsspec, fsspec_kwargs, decompress_in_memory, **kwargs)\u001b[0m\n\u001b[1;32m    220\u001b[0m \u001b[38;5;28;01mif\u001b[39;00m \u001b[38;5;129;01mnot\u001b[39;00m name:\n\u001b[1;32m    221\u001b[0m     \u001b[38;5;28;01mraise\u001b[39;00m \u001b[38;5;167;01mValueError\u001b[39;00m(\u001b[38;5;124mf\u001b[39m\u001b[38;5;124m\"\u001b[39m\u001b[38;5;124mEmpty filename: \u001b[39m\u001b[38;5;132;01m{\u001b[39;00mname\u001b[38;5;132;01m!r}\u001b[39;00m\u001b[38;5;124m\"\u001b[39m)\n\u001b[0;32m--> 223\u001b[0m \u001b[38;5;28;01mreturn\u001b[39;00m \u001b[43mHDUList\u001b[49m\u001b[38;5;241;43m.\u001b[39;49m\u001b[43mfromfile\u001b[49m\u001b[43m(\u001b[49m\n\u001b[1;32m    224\u001b[0m \u001b[43m    \u001b[49m\u001b[43mname\u001b[49m\u001b[43m,\u001b[49m\n\u001b[1;32m    225\u001b[0m \u001b[43m    \u001b[49m\u001b[43mmode\u001b[49m\u001b[43m,\u001b[49m\n\u001b[1;32m    226\u001b[0m \u001b[43m    \u001b[49m\u001b[43mmemmap\u001b[49m\u001b[43m,\u001b[49m\n\u001b[1;32m    227\u001b[0m \u001b[43m    \u001b[49m\u001b[43msave_backup\u001b[49m\u001b[43m,\u001b[49m\n\u001b[1;32m    228\u001b[0m \u001b[43m    \u001b[49m\u001b[43mcache\u001b[49m\u001b[43m,\u001b[49m\n\u001b[1;32m    229\u001b[0m \u001b[43m    \u001b[49m\u001b[43mlazy_load_hdus\u001b[49m\u001b[43m,\u001b[49m\n\u001b[1;32m    230\u001b[0m \u001b[43m    \u001b[49m\u001b[43mignore_missing_simple\u001b[49m\u001b[43m,\u001b[49m\n\u001b[1;32m    231\u001b[0m \u001b[43m    \u001b[49m\u001b[43muse_fsspec\u001b[49m\u001b[38;5;241;43m=\u001b[39;49m\u001b[43muse_fsspec\u001b[49m\u001b[43m,\u001b[49m\n\u001b[1;32m    232\u001b[0m \u001b[43m    \u001b[49m\u001b[43mfsspec_kwargs\u001b[49m\u001b[38;5;241;43m=\u001b[39;49m\u001b[43mfsspec_kwargs\u001b[49m\u001b[43m,\u001b[49m\n\u001b[1;32m    233\u001b[0m \u001b[43m    \u001b[49m\u001b[43mdecompress_in_memory\u001b[49m\u001b[38;5;241;43m=\u001b[39;49m\u001b[43mdecompress_in_memory\u001b[49m\u001b[43m,\u001b[49m\n\u001b[1;32m    234\u001b[0m \u001b[43m    \u001b[49m\u001b[38;5;241;43m*\u001b[39;49m\u001b[38;5;241;43m*\u001b[39;49m\u001b[43mkwargs\u001b[49m\u001b[43m,\u001b[49m\n\u001b[1;32m    235\u001b[0m \u001b[43m\u001b[49m\u001b[43m)\u001b[49m\n",
      "File \u001b[0;32m/mnt/c/Users/prera/Documents/GitHub/scripts_by_me/research24/astrotest/lib/python3.10/site-packages/astropy/io/fits/hdu/hdulist.py:487\u001b[0m, in \u001b[0;36mHDUList.fromfile\u001b[0;34m(cls, fileobj, mode, memmap, save_backup, cache, lazy_load_hdus, ignore_missing_simple, **kwargs)\u001b[0m\n\u001b[1;32m    468\u001b[0m \u001b[38;5;129m@classmethod\u001b[39m\n\u001b[1;32m    469\u001b[0m \u001b[38;5;28;01mdef\u001b[39;00m \u001b[38;5;21mfromfile\u001b[39m(\n\u001b[1;32m    470\u001b[0m     \u001b[38;5;28mcls\u001b[39m,\n\u001b[0;32m   (...)\u001b[0m\n\u001b[1;32m    478\u001b[0m     \u001b[38;5;241m*\u001b[39m\u001b[38;5;241m*\u001b[39mkwargs,\n\u001b[1;32m    479\u001b[0m ):\n\u001b[1;32m    480\u001b[0m \u001b[38;5;250m    \u001b[39m\u001b[38;5;124;03m\"\"\"\u001b[39;00m\n\u001b[1;32m    481\u001b[0m \u001b[38;5;124;03m    Creates an `HDUList` instance from a file-like object.\u001b[39;00m\n\u001b[1;32m    482\u001b[0m \n\u001b[0;32m   (...)\u001b[0m\n\u001b[1;32m    485\u001b[0m \u001b[38;5;124;03m    documentation for details of the parameters accepted by this method).\u001b[39;00m\n\u001b[1;32m    486\u001b[0m \u001b[38;5;124;03m    \"\"\"\u001b[39;00m\n\u001b[0;32m--> 487\u001b[0m     \u001b[38;5;28;01mreturn\u001b[39;00m \u001b[38;5;28;43mcls\u001b[39;49m\u001b[38;5;241;43m.\u001b[39;49m\u001b[43m_readfrom\u001b[49m\u001b[43m(\u001b[49m\n\u001b[1;32m    488\u001b[0m \u001b[43m        \u001b[49m\u001b[43mfileobj\u001b[49m\u001b[38;5;241;43m=\u001b[39;49m\u001b[43mfileobj\u001b[49m\u001b[43m,\u001b[49m\n\u001b[1;32m    489\u001b[0m \u001b[43m        \u001b[49m\u001b[43mmode\u001b[49m\u001b[38;5;241;43m=\u001b[39;49m\u001b[43mmode\u001b[49m\u001b[43m,\u001b[49m\n\u001b[1;32m    490\u001b[0m \u001b[43m        \u001b[49m\u001b[43mmemmap\u001b[49m\u001b[38;5;241;43m=\u001b[39;49m\u001b[43mmemmap\u001b[49m\u001b[43m,\u001b[49m\n\u001b[1;32m    491\u001b[0m \u001b[43m        \u001b[49m\u001b[43msave_backup\u001b[49m\u001b[38;5;241;43m=\u001b[39;49m\u001b[43msave_backup\u001b[49m\u001b[43m,\u001b[49m\n\u001b[1;32m    492\u001b[0m \u001b[43m        \u001b[49m\u001b[43mcache\u001b[49m\u001b[38;5;241;43m=\u001b[39;49m\u001b[43mcache\u001b[49m\u001b[43m,\u001b[49m\n\u001b[1;32m    493\u001b[0m \u001b[43m        \u001b[49m\u001b[43mignore_missing_simple\u001b[49m\u001b[38;5;241;43m=\u001b[39;49m\u001b[43mignore_missing_simple\u001b[49m\u001b[43m,\u001b[49m\n\u001b[1;32m    494\u001b[0m \u001b[43m        \u001b[49m\u001b[43mlazy_load_hdus\u001b[49m\u001b[38;5;241;43m=\u001b[39;49m\u001b[43mlazy_load_hdus\u001b[49m\u001b[43m,\u001b[49m\n\u001b[1;32m    495\u001b[0m \u001b[43m        \u001b[49m\u001b[38;5;241;43m*\u001b[39;49m\u001b[38;5;241;43m*\u001b[39;49m\u001b[43mkwargs\u001b[49m\u001b[43m,\u001b[49m\n\u001b[1;32m    496\u001b[0m \u001b[43m    \u001b[49m\u001b[43m)\u001b[49m\n",
      "File \u001b[0;32m/mnt/c/Users/prera/Documents/GitHub/scripts_by_me/research24/astrotest/lib/python3.10/site-packages/astropy/io/fits/hdu/hdulist.py:1248\u001b[0m, in \u001b[0;36mHDUList._readfrom\u001b[0;34m(cls, fileobj, data, mode, memmap, cache, lazy_load_hdus, ignore_missing_simple, use_fsspec, fsspec_kwargs, decompress_in_memory, **kwargs)\u001b[0m\n\u001b[1;32m   1245\u001b[0m     \u001b[38;5;28;01mif\u001b[39;00m hdulist\u001b[38;5;241m.\u001b[39m_file\u001b[38;5;241m.\u001b[39mclose_on_error:\n\u001b[1;32m   1246\u001b[0m         hdulist\u001b[38;5;241m.\u001b[39m_file\u001b[38;5;241m.\u001b[39mclose()\n\u001b[0;32m-> 1248\u001b[0m     \u001b[38;5;28;01mraise\u001b[39;00m \u001b[38;5;167;01mOSError\u001b[39;00m(\u001b[38;5;124m\"\u001b[39m\u001b[38;5;124mEmpty or corrupt FITS file\u001b[39m\u001b[38;5;124m\"\u001b[39m)\n\u001b[1;32m   1250\u001b[0m \u001b[38;5;28;01mif\u001b[39;00m \u001b[38;5;129;01mnot\u001b[39;00m lazy_load_hdus \u001b[38;5;129;01mor\u001b[39;00m kwargs\u001b[38;5;241m.\u001b[39mget(\u001b[38;5;124m\"\u001b[39m\u001b[38;5;124mchecksum\u001b[39m\u001b[38;5;124m\"\u001b[39m) \u001b[38;5;129;01mis\u001b[39;00m \u001b[38;5;28;01mTrue\u001b[39;00m:\n\u001b[1;32m   1251\u001b[0m     \u001b[38;5;66;03m# Go ahead and load all HDUs\u001b[39;00m\n\u001b[1;32m   1252\u001b[0m     \u001b[38;5;28;01mwhile\u001b[39;00m hdulist\u001b[38;5;241m.\u001b[39m_read_next_hdu():\n",
      "\u001b[0;31mOSError\u001b[0m: Empty or corrupt FITS file"
     ]
    }
   ],
   "source": [
    "spec = fits.open('HST/mastDownload/HST/leit1m040/leit1m040_x1dsum.fits')[1]\n",
    "spec.data"
   ]
  },
  {
   "cell_type": "code",
   "execution_count": 9,
   "id": "55ad8607",
   "metadata": {},
   "outputs": [
    {
     "data": {
      "text/plain": [
       "[<astropy.io.fits.hdu.table.BinTableHDU at 0x7fc56ceea830>,\n",
       " <astropy.io.fits.hdu.table.BinTableHDU at 0x7fc56cee8490>,\n",
       " <astropy.io.fits.hdu.table.BinTableHDU at 0x7fc56ceeae60>,\n",
       " <astropy.io.fits.hdu.table.BinTableHDU at 0x7fc56ceeb190>,\n",
       " <astropy.io.fits.hdu.table.BinTableHDU at 0x7fc56ceeb5e0>,\n",
       " <astropy.io.fits.hdu.table.BinTableHDU at 0x7fc56ceeb9a0>,\n",
       " <astropy.io.fits.hdu.table.BinTableHDU at 0x7fc56ceebd60>,\n",
       " <astropy.io.fits.hdu.table.BinTableHDU at 0x7fc56ceebb50>,\n",
       " <astropy.io.fits.hdu.table.BinTableHDU at 0x7fc56ceeb760>,\n",
       " <astropy.io.fits.hdu.table.BinTableHDU at 0x7fc56ceeb220>,\n",
       " <astropy.io.fits.hdu.table.BinTableHDU at 0x7fc56ceeae90>,\n",
       " <astropy.io.fits.hdu.table.BinTableHDU at 0x7fc56cee85b0>,\n",
       " <astropy.io.fits.hdu.table.BinTableHDU at 0x7fc56cd981f0>,\n",
       " <astropy.io.fits.hdu.table.BinTableHDU at 0x7fc56cee92a0>,\n",
       " <astropy.io.fits.hdu.table.BinTableHDU at 0x7fc56ceeb340>,\n",
       " <astropy.io.fits.hdu.table.BinTableHDU at 0x7fc56ceeb790>,\n",
       " <astropy.io.fits.hdu.table.BinTableHDU at 0x7fc56cee88b0>,\n",
       " <astropy.io.fits.hdu.table.BinTableHDU at 0x7fc56cd982b0>,\n",
       " <astropy.io.fits.hdu.table.BinTableHDU at 0x7fc56cd98670>,\n",
       " <astropy.io.fits.hdu.table.BinTableHDU at 0x7fc56ceeba30>,\n",
       " <astropy.io.fits.hdu.table.BinTableHDU at 0x7fc56cee8850>,\n",
       " <astropy.io.fits.hdu.table.BinTableHDU at 0x7fc56cee9570>,\n",
       " <astropy.io.fits.hdu.table.BinTableHDU at 0x7fc56cee9660>,\n",
       " <astropy.io.fits.hdu.table.BinTableHDU at 0x7fc56cd98250>,\n",
       " <astropy.io.fits.hdu.table.BinTableHDU at 0x7fc56cee9c60>,\n",
       " <astropy.io.fits.hdu.table.BinTableHDU at 0x7fc56cee96f0>,\n",
       " <astropy.io.fits.hdu.table.BinTableHDU at 0x7fc56cee84f0>,\n",
       " <astropy.io.fits.hdu.table.BinTableHDU at 0x7fc56cee9ab0>,\n",
       " <astropy.io.fits.hdu.table.BinTableHDU at 0x7fc56cd989d0>,\n",
       " <astropy.io.fits.hdu.table.BinTableHDU at 0x7fc56cd98550>,\n",
       " <astropy.io.fits.hdu.table.BinTableHDU at 0x7fc56ceeb460>,\n",
       " <astropy.io.fits.hdu.table.BinTableHDU at 0x7fc56cee8e20>,\n",
       " <astropy.io.fits.hdu.table.BinTableHDU at 0x7fc56cee8a90>,\n",
       " <astropy.io.fits.hdu.table.BinTableHDU at 0x7fc56cd98ac0>,\n",
       " <astropy.io.fits.hdu.table.BinTableHDU at 0x7fc56cd98d30>,\n",
       " <astropy.io.fits.hdu.table.BinTableHDU at 0x7fc56cd989a0>,\n",
       " <astropy.io.fits.hdu.table.BinTableHDU at 0x7fc56cd99360>,\n",
       " <astropy.io.fits.hdu.table.BinTableHDU at 0x7fc56cee8ac0>,\n",
       " <astropy.io.fits.hdu.table.BinTableHDU at 0x7fc56cd991b0>]"
      ]
     },
     "execution_count": 9,
     "metadata": {},
     "output_type": "execute_result"
    }
   ],
   "source": [
    "spectrum_x1d"
   ]
  }
 ],
 "metadata": {
  "kernelspec": {
   "display_name": "astrotest",
   "language": "python",
   "name": "python3"
  },
  "language_info": {
   "codemirror_mode": {
    "name": "ipython",
    "version": 3
   },
   "file_extension": ".py",
   "mimetype": "text/x-python",
   "name": "python",
   "nbconvert_exporter": "python",
   "pygments_lexer": "ipython3",
   "version": "3.10.12"
  }
 },
 "nbformat": 4,
 "nbformat_minor": 5
}
