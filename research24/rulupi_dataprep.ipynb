{
 "cells": [
  {
   "cell_type": "code",
   "execution_count": 1,
   "id": "fcba52c7",
   "metadata": {},
   "outputs": [],
   "source": [
    "import os\n",
    "import numpy as np\n",
    "import matplotlib.pyplot as plt\n",
    "import astropy.units as u\n",
    "import astropy.constants as const\n",
    "import multiprocessing as mp\n",
    "import pandas as pd\n",
    "import pickle as pkl\n",
    "import urllib\n",
    "\n",
    "from astropy.io import fits\n",
    "from astropy.table import Table\n",
    "from astropy.nddata import StdDevUncertainty\n",
    "from astropy.convolution import convolve\n",
    "from astroquery.mast import Observations\n",
    "from glob import glob\n",
    "from lmfit import Model\n",
    "from lmfit.printfuncs import report_fit\n",
    "from lmfit import conf_interval, report_ci, minimize\n",
    "from pathlib import Path\n",
    "from scipy.signal import find_peaks\n",
    "from scipy.interpolate import interp1d\n",
    "from specutils.manipulation import LinearInterpolatedResampler\n",
    "from specutils import Spectrum1D"
   ]
  },
  {
   "cell_type": "markdown",
   "id": "ee950ef1",
   "metadata": {},
   "source": [
    "# Load in data (downloaded in scratch.ipynb using MAST archive API)"
   ]
  },
  {
   "cell_type": "code",
   "execution_count": 8,
   "id": "4fb16e4c",
   "metadata": {},
   "outputs": [],
   "source": [
    "# Load in RU Lupi data\n",
    "spectrum_files = glob(os.path.join('HST','anonymous37222', '*x1dsum.fits'))"
   ]
  },
  {
   "cell_type": "code",
   "execution_count": 10,
   "id": "5e5dd995",
   "metadata": {},
   "outputs": [
    {
     "name": "stderr",
     "output_type": "stream",
     "text": [
      "WARNING: UnitsWarning: 'erg /s /cm**2 /angstrom' contains multiple slashes, which is discouraged by the FITS standard [astropy.units.format.generic]\n",
      "WARNING: UnitsWarning: 'count /s /pixel' contains multiple slashes, which is discouraged by the FITS standard [astropy.units.format.generic]\n"
     ]
    },
    {
     "data": {
      "text/plain": [
       "np.float64(1287.6826131868756)"
      ]
     },
     "execution_count": 10,
     "metadata": {},
     "output_type": "execute_result"
    }
   ],
   "source": [
    "spec = Table.read(spectrum_files[1])\n",
    "spec['WAVELENGTH'][spec['SEGMENT']=='FUVA'].min()"
   ]
  },
  {
   "cell_type": "code",
   "execution_count": 11,
   "id": "c8f76b07",
   "metadata": {},
   "outputs": [],
   "source": [
    "INST_head = [fits.getheader(file, ext=0) for file in spectrum_files]\n",
    "SCI_head = [fits.getheader(file, ext=1) for file in spectrum_files]\n",
    "spectrum_x1d = [Table.read(file, hdu=1) for file in spectrum_files]"
   ]
  },
  {
   "cell_type": "code",
   "execution_count": 12,
   "id": "85122352",
   "metadata": {},
   "outputs": [],
   "source": [
    "#from each spectrum, function to get specific lines OR specific transitions from France emission_lines.csv\n",
    "lines = pd.read_csv('HST/emission_lines.csv', skiprows=2)"
   ]
  },
  {
   "cell_type": "code",
   "execution_count": 13,
   "id": "e99457b8",
   "metadata": {},
   "outputs": [],
   "source": [
    "file_idx = 5\n",
    "flux_units = (u.erg/(u.AA*u.s*(u.cm**-2)))\n",
    "\n",
    "x1d_wavelength = np.ravel(spectrum_x1d[file_idx]['WAVELENGTH'])\n",
    "x1d_flux = np.ravel(spectrum_x1d[file_idx]['FLUX'])\n",
    "x1d_fluxerr = np.ravel(spectrum_x1d[file_idx]['ERROR'])"
   ]
  },
  {
   "cell_type": "code",
   "execution_count": 14,
   "id": "7e45a751",
   "metadata": {},
   "outputs": [],
   "source": [
    "peaks , _ = find_peaks(np.array(x1d_flux), height=max(x1d_fluxerr.value)*2, distance=100)\n",
    "#Find the emission lines associated with H2 fluorescence\n",
    "emission_table_idx = []\n",
    "lab_line_row = []\n",
    "for i, l in enumerate(lines['lab_lambda']):\n",
    "    diff = abs(x1d_wavelength[peaks]/u.AA-l)\n",
    "    if min(diff) < 5:\n",
    "        emission_table_idx.append(np.argmin(diff))\n",
    "        lab_line_row.append(lines.iloc[i])"
   ]
  },
  {
   "cell_type": "code",
   "execution_count": null,
   "id": "88f0de16",
   "metadata": {},
   "outputs": [],
   "source": [
    "datadir = 'HST/'\n",
    "def fetch_COSfiles(grating, lpPos, cenwave, disptab):\n",
    "\n",
    "    \"\"\"\n",
    "    Given all the inputs: (detector, grating, LP-POS, cenwave, dispersion table,) this will download both\n",
    "    the LSF file and Disptab file you should use in the convolution and return their paths.\n",
    "    Returns:\n",
    "    LSF_file_name (str): filename of the new downloaded LSF file\n",
    "    disptab_path (str): path to the new downloaded disptab file\n",
    "    \"\"\"\n",
    "    COS_site_rootname = (\n",
    "        \"https://www.stsci.edu/files/live/sites/www/files/home/hst/instrumentation/cos/\"\n",
    "        \"performance/spectral-resolution/_documents/\"\n",
    "    )  # Link to where all the files live - split into 2 lines\n",
    "    LSF_file_name = f\"aa_LSFTable_{grating}_{cenwave}_LP{lpPos}_cn.dat\"\n",
    "\n",
    "    LSF_file_webpath = COS_site_rootname + LSF_file_name  # Where to find file online\n",
    "    lsffileSave = datadir+LSF_file_name\n",
    "    lsfpathObj = Path(lsffileSave)\n",
    "    if not lsfpathObj.is_file():\n",
    "        try:\n",
    "            urllib.request.urlretrieve(\n",
    "                LSF_file_webpath, lsffileSave\n",
    "            )  # Where to save file to locally\n",
    "            print(f\"Downloaded LSF file to {lsffileSave}\")\n",
    "        except urllib.error.HTTPError:\n",
    "            print(f'404 error for {lsffileSave}')\n",
    "    else:\n",
    "        print(f'File already exists, skipping {lsffileSave}')\n",
    "\n",
    "    # And we'll need to get the DISPTAB file as well\n",
    "    disptab_path = datadir + disptab\n",
    "    disptabpathObj = Path(disptab_path)\n",
    "    if not disptabpathObj.is_file():\n",
    "        try:\n",
    "            urllib.request.urlretrieve(\n",
    "                f\"https://hst-crds.stsci.edu/unchecked_get/references/hst/{disptab}\",\n",
    "                disptab_path,\n",
    "            )\n",
    "            print(f\"Downloaded DISPTAB file to {disptab_path}\")\n",
    "        except urllib.error.HTTPError:\n",
    "            print(f'404 error for {disptab_path}')\n",
    "    else:\n",
    "        print(f'File already exists, skipping {disptab_path}')\n",
    "    return LSF_file_name, disptab_path"
   ]
  }
 ],
 "metadata": {
  "kernelspec": {
   "display_name": "astrovenv",
   "language": "python",
   "name": "python3"
  },
  "language_info": {
   "codemirror_mode": {
    "name": "ipython",
    "version": 3
   },
   "file_extension": ".py",
   "mimetype": "text/x-python",
   "name": "python",
   "nbconvert_exporter": "python",
   "pygments_lexer": "ipython3",
   "version": "3.10.12"
  }
 },
 "nbformat": 4,
 "nbformat_minor": 5
}
